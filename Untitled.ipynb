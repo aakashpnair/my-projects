{
 "cells": [
  {
   "cell_type": "code",
   "execution_count": 8,
   "metadata": {},
   "outputs": [
    {
     "name": "stderr",
     "output_type": "stream",
     "text": [
      "PdfReadWarning: Xref table not zero-indexed. ID numbers for objects will be corrected. [pdf.py:1736]\n"
     ]
    },
    {
     "name": "stdout",
     "output_type": "stream",
     "text": [
      "18\n",
      "Aakash Educational Services Pvt. Ltd. \n",
      "- Regd. Office : Aakash Tower, 8, \n",
      "Pusa Road, \n",
      "New Delhi-1\n",
      "10005 Ph.011-47623456\n",
      "SolutionsSECTION - A\n",
      "Objective Type Questions\n",
      "1.Which of the following is not a result of cell division?\n",
      "(1)Growth\n",
      "(2)Repair\n",
      "(3)M\n",
      "etabolism(4)\n",
      "Reproduction\n",
      "Sol.Answer (3)\n",
      "Growth, repair and reproduction are the result of cell division.\n",
      "2.Mark the \n",
      "incorrect pair.\n",
      "(1)Hydra  –  Budding(2)Flatworm – Regeneration\n",
      "(3)Amoeba\n",
      "  –Fragmentation\n",
      "(4)Y\n",
      "east – Budding\n",
      "Sol.Answer (3)\n",
      "\n",
      "Amoeba divides by binary fission3.Which of the following is \n",
      "incorrect for reproduction?(1)Unicellular organisms reproduce by cell division\n",
      "\n",
      "(2)Reproduction is a characteristic of all living organisms\n",
      "(3)In unicellular organisms, reproduction and growth are linked together\n",
      "(4)Non-living objects are incapable of reproducing\n",
      "Sol.Answer (2)\n",
      "\n",
      "Reproduction is absent in sterile organism like mule, hinny, sterile/infertile human couples, worker bees etc.\n",
      "4.Mark the \n",
      "incorrect statement w.r.t. metabolism.\n",
      "(1)Microbes exhibit the metabolism\n",
      "(2)It is the property of all living forms\n",
      "(3)The metabolic reactions can be demonstrated \n",
      "in-vitro(4)It is not a defining feature of life forms\n",
      "Sol.Answer (4)\n",
      "\n",
      "Metabolism is a defining feature.Chapter 1The Living World\n",
      "\n"
     ]
    }
   ],
   "source": [
    "import PyPDF2\n",
    "pdfFileObj = open('example.pdf', 'rb')\n",
    "pdfReader = PyPDF2.PdfFileReader(pdfFileObj)\n",
    "print(pdfReader.numPages)\n",
    "pageObj = pdfReader.getPage(0)\n",
    "print(pageObj.extractText())\n"
   ]
  },
  {
   "cell_type": "code",
   "execution_count": null,
   "metadata": {},
   "outputs": [],
   "source": []
  },
  {
   "cell_type": "code",
   "execution_count": null,
   "metadata": {},
   "outputs": [],
   "source": []
  }
 ],
 "metadata": {
  "kernelspec": {
   "display_name": "Python 3",
   "language": "python",
   "name": "python3"
  },
  "language_info": {
   "codemirror_mode": {
    "name": "ipython",
    "version": 3
   },
   "file_extension": ".py",
   "mimetype": "text/x-python",
   "name": "python",
   "nbconvert_exporter": "python",
   "pygments_lexer": "ipython3",
   "version": "3.7.1"
  }
 },
 "nbformat": 4,
 "nbformat_minor": 2
}
